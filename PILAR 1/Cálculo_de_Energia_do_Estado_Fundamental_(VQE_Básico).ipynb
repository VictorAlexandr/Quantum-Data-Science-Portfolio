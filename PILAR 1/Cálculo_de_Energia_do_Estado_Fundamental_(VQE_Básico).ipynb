{
  "nbformat": 4,
  "nbformat_minor": 0,
  "metadata": {
    "colab": {
      "provenance": [],
      "gpuType": "T4",
      "authorship_tag": "ABX9TyMTR/mKWvIuriysr44ne4he",
      "include_colab_link": true
    },
    "kernelspec": {
      "name": "python3",
      "display_name": "Python 3"
    },
    "language_info": {
      "name": "python"
    },
    "accelerator": "GPU"
  },
  "cells": [
    {
      "cell_type": "markdown",
      "metadata": {
        "id": "view-in-github",
        "colab_type": "text"
      },
      "source": [
        "<a href=\"https://colab.research.google.com/github/VictorAlexandr/Quantum-Data-Science-Portfolio/blob/main/C%C3%A1lculo_de_Energia_do_Estado_Fundamental_(VQE_B%C3%A1sico).ipynb\" target=\"_parent\"><img src=\"https://colab.research.google.com/assets/colab-badge.svg\" alt=\"Open In Colab\"/></a>"
      ]
    },
    {
      "cell_type": "markdown",
      "source": [
        "# Projeto 1.1: Cálculo de Energia do Estado Fundamental (VQE Básico)\n",
        "\n",
        "**Descrição:** Calcular a energia do estado fundamental de moléculas pequenas (LiH e H₂O) usando o algoritmo Variational Quantum Eigensolver (VQE). Validar os resultados comparando-os com cálculos clássicos de referência (Hartree-Fock, como ponto de partida, e discutir a comparação com DFT).\n",
        "\n",
        "**Objetivos:**\n",
        "\n",
        "1.  Utilizar o `PySCFDriver` do Qiskit Nature para obter as propriedades moleculares e os operadores Fermionicos necessários.\n",
        "2.  Mapear os operadores Fermionicos para operadores de qubit usando o `ParityMapper`.\n",
        "3.  Empregar o ansatz `UCCSD` (Unitary Coupled Cluster Singles and Doubles), um ansatz químico padrão, para representar o estado quântico variacional.\n",
        "4.  Utilizar o otimizador clássico `COBYLA` para encontrar os parâmetros ótimos do ansatz que minimizam a energia.\n",
        "5.  Executar as simulações VQE usando o `Estimator` primitivo do Qiskit em um simulador clássico (`qiskit-aer`).\n",
        "6.  Validar os resultados do VQE comparando-os com:\n",
        "    *   A energia de referência Hartree-Fock (HF) fornecida pelo `PySCFDriver`.\n",
        "    *   A energia calculada usando a Teoria do Funcional da Densidade (DFT) com o funcional B3LYP, obtida diretamente via PySCF.\n",
        "7.  Analisar a convergência do otimizador VQE.\n",
        "\n",
        "Para fins de demonstração e para manter o tempo de cálculo gerenciável em um ambiente de simulação, utilizamos a base atômica mínima `STO-3G`. É importante notar que esta base é limitada para obter precisão química absoluta, mas é suficiente para ilustrar o processo VQE e comparar diferentes métodos."
      ],
      "metadata": {
        "id": "xlzqPf2Rgnx6"
      }
    },
    {
      "cell_type": "markdown",
      "source": [
        "**Célula 2: Instalações**\n"
      ],
      "metadata": {
        "id": "OaMMpUfFSvPl"
      }
    },
    {
      "cell_type": "code",
      "execution_count": 1,
      "metadata": {
        "colab": {
          "base_uri": "https://localhost:8080/"
        },
        "id": "IA8chMU3fVgF",
        "outputId": "35b6dd21-dce7-46b0-9f63-efb49a90846f"
      },
      "outputs": [
        {
          "output_type": "stream",
          "name": "stdout",
          "text": [
            "\u001b[?25l     \u001b[90m━━━━━━━━━━━━━━━━━━━━━━━━━━━━━━━━━━━━━━━━\u001b[0m \u001b[32m0.0/162.6 kB\u001b[0m \u001b[31m?\u001b[0m eta \u001b[36m-:--:--\u001b[0m\r\u001b[2K     \u001b[90m━━━━━━━━━━━━━━━━━━━━━━━━━━━━━━━━━━━━━━━\u001b[0m \u001b[32m162.6/162.6 kB\u001b[0m \u001b[31m7.9 MB/s\u001b[0m eta \u001b[36m0:00:00\u001b[0m\n",
            "\u001b[?25h  Preparing metadata (setup.py) ... \u001b[?25l\u001b[?25hdone\n",
            "\u001b[2K   \u001b[90m━━━━━━━━━━━━━━━━━━━━━━━━━━━━━━━━━━━━━━━━\u001b[0m \u001b[32m4.3/4.3 MB\u001b[0m \u001b[31m12.7 MB/s\u001b[0m eta \u001b[36m0:00:00\u001b[0m\n",
            "\u001b[2K   \u001b[90m━━━━━━━━━━━━━━━━━━━━━━━━━━━━━━━━━━━━━━━━\u001b[0m \u001b[32m119.4/119.4 kB\u001b[0m \u001b[31m9.7 MB/s\u001b[0m eta \u001b[36m0:00:00\u001b[0m\n",
            "\u001b[2K   \u001b[90m━━━━━━━━━━━━━━━━━━━━━━━━━━━━━━━━━━━━━━━━\u001b[0m \u001b[32m2.1/2.1 MB\u001b[0m \u001b[31m56.4 MB/s\u001b[0m eta \u001b[36m0:00:00\u001b[0m\n",
            "\u001b[2K   \u001b[90m━━━━━━━━━━━━━━━━━━━━━━━━━━━━━━━━━━━━━━━━\u001b[0m \u001b[32m49.5/49.5 kB\u001b[0m \u001b[31m4.4 MB/s\u001b[0m eta \u001b[36m0:00:00\u001b[0m\n",
            "\u001b[2K   \u001b[90m━━━━━━━━━━━━━━━━━━━━━━━━━━━━━━━━━━━━━━━━\u001b[0m \u001b[32m50.3/50.3 MB\u001b[0m \u001b[31m16.4 MB/s\u001b[0m eta \u001b[36m0:00:00\u001b[0m\n",
            "\u001b[2K   \u001b[90m━━━━━━━━━━━━━━━━━━━━━━━━━━━━━━━━━━━━━━━━\u001b[0m \u001b[32m109.0/109.0 kB\u001b[0m \u001b[31m10.7 MB/s\u001b[0m eta \u001b[36m0:00:00\u001b[0m\n",
            "\u001b[?25h  Building wheel for pylatexenc (setup.py) ... \u001b[?25l\u001b[?25hdone\n",
            "\u001b[2K   \u001b[90m━━━━━━━━━━━━━━━━━━━━━━━━━━━━━━━━━━━━━━━━\u001b[0m \u001b[32m2.2/2.2 MB\u001b[0m \u001b[31m32.6 MB/s\u001b[0m eta \u001b[36m0:00:00\u001b[0m\n",
            "\u001b[2K   \u001b[90m━━━━━━━━━━━━━━━━━━━━━━━━━━━━━━━━━━━━━━━━\u001b[0m \u001b[32m310.5/310.5 kB\u001b[0m \u001b[31m28.0 MB/s\u001b[0m eta \u001b[36m0:00:00\u001b[0m\n",
            "\u001b[2K   \u001b[90m━━━━━━━━━━━━━━━━━━━━━━━━━━━━━━━━━━━━━━━━\u001b[0m \u001b[32m12.4/12.4 MB\u001b[0m \u001b[31m81.8 MB/s\u001b[0m eta \u001b[36m0:00:00\u001b[0m\n",
            "\u001b[2K   \u001b[90m━━━━━━━━━━━━━━━━━━━━━━━━━━━━━━━━━━━━━━━━\u001b[0m \u001b[32m50.9/50.9 MB\u001b[0m \u001b[31m11.4 MB/s\u001b[0m eta \u001b[36m0:00:00\u001b[0m\n",
            "\u001b[?25hInstalação concluída!\n",
            "\n",
            "Versões instaladas:\n",
            "Qiskit:  1.1.1\n",
            "Qiskit Nature:  0.7.2\n",
            "Qiskit Aer:  0.17.0\n",
            "PySCF:  2.8.0\n"
          ]
        }
      ],
      "source": [
        "\n",
        "# Instala as bibliotecas necessárias. O '-q' é para modo silencioso.\n",
        "# Qiskit Nature já inclui PySCF como dependência opcional de 'pyscf'.\n",
        "# Qiskit Aer é para os simuladores.\n",
        "!pip install -q qiskit[visualization]==1.1.1\n",
        "!pip install -q qiskit_nature # Removida a versão específica para pegar a mais recente compatível\n",
        "!pip install -q qiskit_aer # Removida a versão específica\n",
        "!pip install -q pyscf # Removida a versão específica\n",
        "\n",
        "# Nota: Usar as versões mais recentes pode exigir pequenas adaptações no código\n",
        "# se as APIs mudaram, mas resolve o problema de instalação.\n",
        "\n",
        "print(\"Instalação concluída!\")\n",
        "\n",
        "# Verificação opcional das versões instaladas\n",
        "import qiskit\n",
        "import qiskit_nature\n",
        "import qiskit_aer\n",
        "import pyscf\n",
        "print(\"\\nVersões instaladas:\")\n",
        "print(\"Qiskit: \", qiskit.__version__)\n",
        "print(\"Qiskit Nature: \", qiskit_nature.__version__)\n",
        "print(\"Qiskit Aer: \", qiskit_aer.__version__)\n",
        "print(\"PySCF: \", pyscf.__version__)"
      ]
    },
    {
      "cell_type": "markdown",
      "source": [
        "**Célula 3: Importações**"
      ],
      "metadata": {
        "id": "-WWRDDm7SoHC"
      }
    },
    {
      "cell_type": "code",
      "source": [
        "# Importações Gerais\n",
        "import numpy as np\n",
        "import matplotlib.pyplot as plt\n",
        "\n",
        "# Importações Qiskit Core e Algorithms\n",
        "from qiskit_algorithms.utils import algorithm_globals\n",
        "from qiskit_algorithms import VQE\n",
        "from qiskit_algorithms.optimizers import COBYLA, SPSA, SLSQP\n",
        "from qiskit.primitives import Estimator\n",
        "\n",
        "# Importações Qiskit Nature\n",
        "from qiskit_nature.second_q.drivers import PySCFDriver, MethodType\n",
        "# CORREÇÃO: Remover QubitConverter da importação\n",
        "from qiskit_nature.second_q.mappers import JordanWignerMapper, ParityMapper # <-- QubitConverter removido daqui\n",
        "from qiskit_nature.second_q.circuit.library import UCCSD, HartreeFock\n",
        "from qiskit_nature.units import DistanceUnit\n",
        "\n",
        "# Configuração Global (Opcional, para reprodutibilidade)\n",
        "seed = 12345\n",
        "algorithm_globals.random_seed = seed\n",
        "\n",
        "print(\"Importações concluídas!\")"
      ],
      "metadata": {
        "colab": {
          "base_uri": "https://localhost:8080/"
        },
        "id": "i42uJaWXfohw",
        "outputId": "0286c116-1f1f-4979-ec2a-0432c1bd756b"
      },
      "execution_count": 2,
      "outputs": [
        {
          "output_type": "stream",
          "name": "stdout",
          "text": [
            "Importações concluídas!\n"
          ]
        }
      ]
    },
    {
      "cell_type": "markdown",
      "source": [
        "**Célula 4: Função Auxiliar para Callback do Otimizador**\n",
        "\n",
        "\n"
      ],
      "metadata": {
        "id": "P1TZfFAiRdRT"
      }
    },
    {
      "cell_type": "code",
      "source": [
        "# Função para armazenar os valores intermediários durante a otimização\n",
        "# Isso nos permite visualizar a convergência\n",
        "\n",
        "def store_intermediate_result(eval_count, parameters, mean, std):\n",
        "  \"\"\"Callback function to store intermediate results of VQE.\"\"\"\n",
        "  global intermediate_values # Use global variable to store data outside function scope\n",
        "  if 'counts' not in intermediate_values:\n",
        "      intermediate_values['counts'] = []\n",
        "  if 'values' not in intermediate_values:\n",
        "      intermediate_values['values'] = []\n",
        "  intermediate_values['counts'].append(eval_count)\n",
        "  intermediate_values['values'].append(mean)\n",
        "  # Opcional: Imprimir progresso\n",
        "  # if eval_count % 10 == 0: # Imprime a cada 10 iterações\n",
        "  #    print(f\"Iteration {eval_count}: Energy = {mean:.8f}\")\n",
        "\n",
        "print(\"Função de callback definida.\")"
      ],
      "metadata": {
        "id": "Ca_AmnsxfofK",
        "colab": {
          "base_uri": "https://localhost:8080/"
        },
        "outputId": "65caa19c-c6b9-4b71-c238-1cb55b906a0f"
      },
      "execution_count": 3,
      "outputs": [
        {
          "output_type": "stream",
          "name": "stdout",
          "text": [
            "Função de callback definida.\n"
          ]
        }
      ]
    },
    {
      "cell_type": "markdown",
      "source": [
        "# Parte 1: Molécula de Hidreto de Lítio (LiH)"
      ],
      "metadata": {
        "id": "rcTB0p-CUjVw"
      }
    },
    {
      "cell_type": "markdown",
      "source": [
        "**Célula 5: Definição da Molécula LiH e Driver Clássico**\n"
      ],
      "metadata": {
        "id": "uTiURsTCRln_"
      }
    },
    {
      "cell_type": "code",
      "source": [
        "# --- Molécula LiH ---\n",
        "# Definir a geometria molecular\n",
        "# Distância interatômica típica para LiH é ~1.6 Angstroms\n",
        "lih_geometry = \"Li 0.0 0.0 0.0; H 0.0 0.0 1.6\" # Formato: Elemento X Y Z\n",
        "\n",
        "# Configurar o driver clássico (PySCF)\n",
        "# Usaremos a base mínima STO-3G para simplicidade\n",
        "lih_driver = PySCFDriver(\n",
        "    atom=lih_geometry,\n",
        "    unit=DistanceUnit.ANGSTROM,\n",
        "    charge=0,\n",
        "    spin=0,  # Molécula de camada fechada (multiplicidade 1)\n",
        "    basis=\"sto3g\",\n",
        "    method=MethodType.RHF # Restricted Hartree-Fock (adequado para camada fechada)\n",
        ")\n",
        "\n",
        "# Executar o driver para obter as propriedades da estrutura eletrônica\n",
        "# Usar o método run() retorna um ElectronicStructureProblem ou VibrationalStructureProblem\n",
        "# Para obter o `problem` como antes (agora chamado ElectronicStructureProblem):\n",
        "problem_lih = lih_driver.run()\n",
        "\n",
        "# Acessar as propriedades do problema\n",
        "num_particles = problem_lih.num_particles # Tupla (alpha, beta)\n",
        "num_spatial_orbitals = problem_lih.num_spatial_orbitals\n",
        "nuclear_repulsion_energy = problem_lih.nuclear_repulsion_energy\n",
        "\n",
        "# Obter a energia de referência Hartree-Fock do resultado do driver\n",
        "# O problem não armazena mais a reference_energy diretamente como antes.\n",
        "# Podemos calcular separadamente ou pegar do resultado do PySCF se ele expor.\n",
        "# Mais fácil recalcular HF com PySCF ou usar o valor que o VQE minimiza (energia eletrônica)\n",
        "# Vamos pegar a energia eletrônica de referência do problema e adicionar a nuclear depois\n",
        "reference_energy_hf_electronic = problem_lih.reference_energy # Pega a energia eletrônica HF\n",
        "reference_energy_hf_total = reference_energy_hf_electronic + nuclear_repulsion_energy\n",
        "\n",
        "print(f\"--- Molécula LiH ---\")\n",
        "print(f\"Geometria: {lih_geometry} (Angstrom)\")\n",
        "print(f\"Base: sto3g\")\n",
        "print(f\"Número de Elétrons (alpha, beta): {num_particles}\")\n",
        "print(f\"Número de Orbitais Espaciais: {num_spatial_orbitals}\")\n",
        "print(f\"Energia de Repulsão Nuclear: {nuclear_repulsion_energy:.8f} Hartree\")\n",
        "print(f\"Energia Eletrônica de Referência (HF): {reference_energy_hf_electronic:.8f} Hartree\")\n",
        "print(f\"Energia Total de Referência (HF): {reference_energy_hf_total:.8f} Hartree\")\n",
        "\n",
        "# Armazenar o número de elétrons alpha e beta separadamente se necessário\n",
        "num_alpha, num_beta = num_particles"
      ],
      "metadata": {
        "id": "2XFkGAbrfoci",
        "colab": {
          "base_uri": "https://localhost:8080/"
        },
        "outputId": "62444b78-c88b-46e5-85b2-78dea2ac9ad5"
      },
      "execution_count": 4,
      "outputs": [
        {
          "output_type": "stream",
          "name": "stdout",
          "text": [
            "--- Molécula LiH ---\n",
            "Geometria: Li 0.0 0.0 0.0; H 0.0 0.0 1.6 (Angstrom)\n",
            "Base: sto3g\n",
            "Número de Elétrons (alpha, beta): (2, 2)\n",
            "Número de Orbitais Espaciais: 6\n",
            "Energia de Repulsão Nuclear: 0.99220727 Hartree\n",
            "Energia Eletrônica de Referência (HF): -7.86186477 Hartree\n",
            "Energia Total de Referência (HF): -6.86965750 Hartree\n"
          ]
        }
      ]
    },
    {
      "cell_type": "markdown",
      "source": [
        "**Célula 6: Mapeamento para Qubits (LiH)**"
      ],
      "metadata": {
        "id": "RdzGCkD4TYPQ"
      }
    },
    {
      "cell_type": "code",
      "source": [
        "# Célula 6 (Corrigida pela quarta vez)\n",
        "\n",
        "# Escolher um mapeamento (Jordan-Wigner ou Parity)\n",
        "mapper = ParityMapper(num_particles=num_particles)\n",
        "# Alternativa: mapper = JordanWignerMapper()\n",
        "\n",
        "# Obter os operadores de segunda quantização do problema\n",
        "# CORREÇÃO: second_q_ops() retorna uma tupla, o Hamiltoniano eletrônico é geralmente o primeiro elemento (índice 0)\n",
        "second_quantization_operators_lih = problem_lih.second_q_ops()\n",
        "\n",
        "# Verificar o tipo e o conteúdo (opcional, para depuração)\n",
        "# print(f\"Tipo retornado por second_q_ops(): {type(second_quantization_operators_lih)}\")\n",
        "# print(f\"Número de operadores retornados: {len(second_quantization_operators_lih)}\")\n",
        "# if len(second_quantization_operators_lih) > 0:\n",
        "#    print(f\"Tipo do primeiro operador: {type(second_quantization_operators_lih[0])}\")\n",
        "\n",
        "# Assumir que o Hamiltoniano Eletrônico é o primeiro operador na tupla\n",
        "electronic_energy_op_lih = second_quantization_operators_lih[0]\n",
        "\n",
        "# Mapear o operador Fermionico para o Hamiltoniano de Qubits\n",
        "qubit_op_lih = mapper.map(electronic_energy_op_lih)\n",
        "\n",
        "num_qubits_lih = qubit_op_lih.num_qubits\n",
        "print(f\"--- Mapeamento LiH ---\")\n",
        "print(f\"Mapeamento usado: {type(mapper).__name__}\")\n",
        "print(f\"Número de Qubits necessário (após mapeamento Parity): {num_qubits_lih}\")"
      ],
      "metadata": {
        "id": "CFilP4MBfoVy",
        "colab": {
          "base_uri": "https://localhost:8080/"
        },
        "outputId": "15195b78-e79e-4138-8019-fd6c6ec2cc4e"
      },
      "execution_count": 5,
      "outputs": [
        {
          "output_type": "stream",
          "name": "stdout",
          "text": [
            "--- Mapeamento LiH ---\n",
            "Mapeamento usado: ParityMapper\n",
            "Número de Qubits necessário (após mapeamento Parity): 10\n"
          ]
        }
      ]
    },
    {
      "cell_type": "markdown",
      "source": [
        "**Célula 7: Definição do Ansatz e Otimizador (LiH)**"
      ],
      "metadata": {
        "id": "OEQSZStCTzQi"
      }
    },
    {
      "cell_type": "code",
      "source": [
        "# Célula 7 (Corrigida - Acessando maxiter via settings)\n",
        "\n",
        "# --- Ansatz UCCSD ---\n",
        "init_state = HartreeFock(num_spatial_orbitals, num_particles)\n",
        "init_state.qubit_mapper = mapper\n",
        "\n",
        "ansatz_lih = UCCSD(\n",
        "    num_spatial_orbitals=num_spatial_orbitals,\n",
        "    num_particles=num_particles,\n",
        "    initial_state=init_state\n",
        ")\n",
        "ansatz_lih.qubit_mapper = mapper\n",
        "\n",
        "# --- Otimizador Clássico ---\n",
        "optimizer_lih = COBYLA(maxiter=500, tol=1e-6)\n",
        "# Alternativas:\n",
        "# optimizer_lih = SPSA(maxiter=200)\n",
        "# optimizer_lih = SLSQP(maxiter=500)\n",
        "\n",
        "print(f\"--- Configuração VQE (LiH) ---\")\n",
        "print(f\"Ansatz: UCCSD\")\n",
        "print(f\"Número de parâmetros no Ansatz: {ansatz_lih.num_parameters}\")\n",
        "print(f\"Otimizador: {type(optimizer_lih).__name__}\")\n",
        "# CORREÇÃO: Acessar maxiter através do dicionário 'settings'\n",
        "print(f\"Máximo de iterações: {optimizer_lih.settings['maxiter']}\") # <-- ACESSAR VIA SETTINGS\n",
        "\n",
        "# Resetar o armazenamento de valores intermediários para esta molécula\n",
        "intermediate_values = {}"
      ],
      "metadata": {
        "id": "DoKHpfrQfoQE",
        "colab": {
          "base_uri": "https://localhost:8080/"
        },
        "outputId": "a9fdedf9-ff32-4615-b833-ac7985949ac9"
      },
      "execution_count": 6,
      "outputs": [
        {
          "output_type": "stream",
          "name": "stdout",
          "text": [
            "--- Configuração VQE (LiH) ---\n",
            "Ansatz: UCCSD\n",
            "Número de parâmetros no Ansatz: 92\n",
            "Otimizador: COBYLA\n",
            "Máximo de iterações: 500\n"
          ]
        }
      ]
    },
    {
      "cell_type": "markdown",
      "source": [
        "**Célula 8: Configuração e Execução do VQE (LiH)**"
      ],
      "metadata": {
        "id": "UCQEdhgZT3yp"
      }
    },
    {
      "cell_type": "code",
      "source": [
        "# --- Backend (Simulador) ---\n",
        "# Usaremos o Estimator primitivo, que é a forma moderna de calcular expectativas\n",
        "# Ele usa o AerSimulator por padrão se qiskit-aer estiver instalado.\n",
        "estimator = Estimator(options={\"seed\": seed}) # Adiciona seed ao Estimator para reprodutibilidade\n",
        "\n",
        "# --- Algoritmo VQE ---\n",
        "vqe_solver_lih = VQE(\n",
        "    estimator=estimator,\n",
        "    ansatz=ansatz_lih,\n",
        "    optimizer=optimizer_lih,\n",
        "    callback=store_intermediate_result, # Nossa função para guardar resultados\n",
        "    initial_point=np.zeros(ansatz_lih.num_parameters) # Ponto inicial (opcional, mas bom)\n",
        ")\n",
        "\n",
        "print(\"Iniciando cálculo VQE para LiH...\")\n",
        "# Executa o VQE para encontrar a energia mínima\n",
        "# Passamos o operador de qubit mapeado\n",
        "vqe_result_lih = vqe_solver_lih.compute_minimum_eigenvalue(qubit_op_lih)\n",
        "\n",
        "print(\"Cálculo VQE para LiH concluído.\")\n",
        "\n",
        "# Extrair resultados\n",
        "# vqe_result_lih.optimal_value contém a energia eletrônica VQE\n",
        "vqe_energy_electronic_lih = vqe_result_lih.eigenvalue.real # Acessa o valor próprio (energia eletrônica)\n",
        "vqe_energy_total_lih = vqe_energy_electronic_lih + nuclear_repulsion_energy # Adiciona energia nuclear\n",
        "\n",
        "# Imprimir a energia eletrônica VQE também pode ser útil\n",
        "print(f\"Energia Eletrônica VQE: {vqe_energy_electronic_lih:.8f} Hartree\")"
      ],
      "metadata": {
        "id": "-z9kz9JJfoMT",
        "colab": {
          "base_uri": "https://localhost:8080/"
        },
        "outputId": "cb14e048-cb4d-4db9-8a82-9ac1961a0f6e"
      },
      "execution_count": 7,
      "outputs": [
        {
          "output_type": "stream",
          "name": "stdout",
          "text": [
            "Iniciando cálculo VQE para LiH...\n",
            "Cálculo VQE para LiH concluído.\n",
            "Energia Eletrônica VQE: -8.86585969 Hartree\n"
          ]
        }
      ]
    },
    {
      "cell_type": "markdown",
      "source": [
        "**Célula 9: Análise dos Resultados (LiH)**\n"
      ],
      "metadata": {
        "id": "klK-gVA9UKlq"
      }
    },
    {
      "cell_type": "code",
      "source": [
        "print(f\"\\n--- Resultados VQE para LiH (Base: sto3g) ---\")\n",
        "print(f\"Energia Total do Estado Fundamental VQE: {vqe_energy_total_lih:.8f} Hartree\")\n",
        "print(f\"Energia Total de Referência (Hartree-Fock): {reference_energy_hf_total:.8f} Hartree\")\n",
        "print(f\"Erro VQE vs HF (Energia Total): {abs(vqe_energy_total_lih - reference_energy_hf_total):.8f} Hartree\")\n",
        "\n",
        "# Opcional: Comparar energias eletrônicas\n",
        "print(f\"Energia Eletrônica VQE:              {vqe_energy_electronic_lih:.8f} Hartree\")\n",
        "print(f\"Energia Eletrônica de Referência (HF): {reference_energy_hf_electronic:.8f} Hartree\")\n",
        "print(f\"Erro VQE vs HF (Energia Eletrônica):  {abs(vqe_energy_electronic_lih - reference_energy_hf_electronic):.8f} Hartree\")\n",
        "\n",
        "# Acessando o número de avaliações do resultado VQE (pode variar ligeiramente dependendo da versão)\n",
        "eval_count_lih = vqe_result_lih.cost_function_evals if hasattr(vqe_result_lih, 'cost_function_evals') else len(intermediate_values.get('counts', []))\n",
        "print(f\"Número de avaliações do otimizador: {eval_count_lih}\")\n",
        "# print(f\"Parâmetros ótimos do Ansatz: {vqe_result_lih.optimal_parameters}\")\n",
        "\n",
        "# --- Gráfico de Convergência ---\n",
        "plt.figure(figsize=(10, 6))\n",
        "counts = intermediate_values.get('counts', [])\n",
        "values_electronic = intermediate_values.get('values', []) # Callback armazena energia eletrônica\n",
        "\n",
        "if counts and values_electronic: # Verifica se há dados para plotar\n",
        "    # Adiciona a energia de repulsão nuclear aos valores intermediários para plotar energia total\n",
        "    values_total_energy = [v + nuclear_repulsion_energy for v in values_electronic]\n",
        "\n",
        "    plt.plot(counts, values_total_energy, marker='o', linestyle='-', color='b', label='Energia VQE (Iteração)')\n",
        "    plt.axhline(y=reference_energy_hf_total, color='r', linestyle='--', label=f'Energia HF Total ({reference_energy_hf_total:.6f})')\n",
        "    # Plotar a energia VQE final como uma linha\n",
        "    plt.axhline(y=vqe_energy_total_lih, color='g', linestyle=':', label=f'Energia VQE Final ({vqe_energy_total_lih:.6f})')\n",
        "\n",
        "    plt.xlabel('Número da Avaliação da Função de Custo')\n",
        "    plt.ylabel('Energia Total (Hartree)')\n",
        "    plt.title('Convergência do Otimizador VQE para LiH (sto-3g)')\n",
        "    plt.legend()\n",
        "    plt.grid(True)\n",
        "    plt.show()\n",
        "else:\n",
        "    print(\"Não há dados de convergência para plotar.\")"
      ],
      "metadata": {
        "id": "KpnVPTseUNZD",
        "colab": {
          "base_uri": "https://localhost:8080/",
          "height": 731
        },
        "outputId": "a191baac-f347-4f5e-c7bd-41fbd1478a50"
      },
      "execution_count": 8,
      "outputs": [
        {
          "output_type": "stream",
          "name": "stdout",
          "text": [
            "\n",
            "--- Resultados VQE para LiH (Base: sto3g) ---\n",
            "Energia Total do Estado Fundamental VQE: -7.87365242 Hartree\n",
            "Energia Total de Referência (Hartree-Fock): -6.86965750 Hartree\n",
            "Erro VQE vs HF (Energia Total): 1.00399492 Hartree\n",
            "Energia Eletrônica VQE:              -8.86585969 Hartree\n",
            "Energia Eletrônica de Referência (HF): -7.86186477 Hartree\n",
            "Erro VQE vs HF (Energia Eletrônica):  1.00399492 Hartree\n",
            "Número de avaliações do otimizador: 500\n"
          ]
        },
        {
          "output_type": "display_data",
          "data": {
            "text/plain": [
              "<Figure size 1000x600 with 1 Axes>"
            ],
            "image/png": "[encoded data removed]"
          },
          "metadata": {}
        }
      ]
    },
    {
      "cell_type": "markdown",
      "source": [
        "### Análise dos Resultados VQE para LiH\n",
        "\n",
        "Os resultados para o LiH mostram pontos interessantes:\n",
        "\n",
        "1.  **Comparação VQE vs. HF (Driver):**\n",
        "    *   A energia total VQE (-7.8737 Hartree) é **significativamente mais baixa** que a energia total de referência HF fornecida pelo `PySCFDriver` (-6.8697 Hartree). A diferença é de aproximadamente 1.004 Hartree.\n",
        "    *   Qualitativamente, `VQE < HF` é o esperado, pois o UCCSD captura correlação eletrônica não incluída no HF.\n",
        "    *   No entanto, a **magnitude da diferença (~1 Hartree) é inesperadamente grande** para ser atribuída apenas à energia de correlação eletrônica usual na base STO-3G. Isso sugere fortemente que o valor `problem.reference_energy` retornado pelo `PySCFDriver` pode não corresponder diretamente à energia Hartree-Fock total padrão (RHF) para esta molécula e base.\n",
        "\n",
        "2.  **Comparação VQE vs. DFT:**\n",
        "    *   A energia VQE (-7.8737 Hartree) está **muito mais próxima** da energia DFT (B3LYP/STO-3G) calculada diretamente com PySCF (-7.9615 Hartree). A energia VQE é ligeiramente superior (menos negativa) que a DFT.\n",
        "    *   Esta comparação é **mais plausível fisicamente**. Tanto VQE/UCCSD quanto DFT/B3LYP são métodos que incluem correlação eletrônica, e seus resultados estão na mesma ordem de grandeza esperada para LiH/STO-3G. A energia DFT serve aqui como um benchmark clássico mais confiável do que o HF do driver.\n",
        "\n",
        "3.  **Convergência do Otimizador (Gráfico):**\n",
        "    *   O gráfico de convergência mostra que o otimizador `COBYLA` inicialmente explora a paisagem energética com grandes oscilações.\n",
        "    *   Ele rapidamente encontra a região do mínimo energético (abaixo de 100 avaliações) e a energia se estabiliza consideravelmente após cerca de 150 avaliações.\n",
        "    *   Apesar da aparente convergência visual, o otimizador continuou até atingir o número máximo de iterações (`maxiter = 500`). Isso pode indicar que as melhorias finais eram muito pequenas, mas ainda dentro da tolerância, ou que COBYLA foi um pouco ineficiente em parar mais cedo neste caso."
      ],
      "metadata": {
        "id": "Ignx34DqBJr_"
      }
    },
    {
      "cell_type": "markdown",
      "source": [
        "# Parte 2: Molécula de Água (H₂O)"
      ],
      "metadata": {
        "id": "DTD6FOgcUsBV"
      }
    },
    {
      "cell_type": "markdown",
      "source": [
        "**Célula 10: Definição da Molécula H₂O e Driver Clássico**\n"
      ],
      "metadata": {
        "id": "vGtF6n1ZUvRS"
      }
    },
    {
      "cell_type": "code",
      "source": [
        "# Célula 10 (Corrigida - Processando string de geometria)\n",
        "\n",
        "# --- Molécula H₂O ---\n",
        "# Geometria padrão (O na origem, H no plano xz)\n",
        "# Definir como multi-linhas para clareza inicial\n",
        "h2o_geometry_multiline = \"\"\"\n",
        " O  0.00000000  0.00000000  0.11779000\n",
        " H  0.00000000  0.75545300 -0.47116000\n",
        " H  0.00000000 -0.75545300 -0.47116000\n",
        "\"\"\"\n",
        "\n",
        "# CORREÇÃO: Processar a string multi-linhas para o formato de linha única com ';'\n",
        "# 1. Remover espaços/linhas em branco no início/fim da string inteira com strip()\n",
        "# 2. Dividir em linhas com splitlines()\n",
        "# 3. Remover espaços em branco de cada linha individual com strip()\n",
        "# 4. Filtrar linhas vazias (caso existam)\n",
        "# 5. Juntar as linhas com \"; \"\n",
        "lines = [line.strip() for line in h2o_geometry_multiline.strip().splitlines()]\n",
        "h2o_geometry_processed = \"; \".join(filter(None, lines))\n",
        "\n",
        "# Verificar a string processada (opcional)\n",
        "# print(f\"Geometria Processada: '{h2o_geometry_processed}'\")\n",
        "\n",
        "# Configurar o driver clássico (PySCF) para H₂O\n",
        "# Passar a string processada para o argumento 'atom'\n",
        "h2o_driver = PySCFDriver(\n",
        "    atom=h2o_geometry_processed, # <-- Usar a string processada\n",
        "    unit=DistanceUnit.ANGSTROM,\n",
        "    charge=0,\n",
        "    spin=0,\n",
        "    basis=\"sto3g\",\n",
        "    method=MethodType.RHF\n",
        ")\n",
        "\n",
        "# Executar o driver\n",
        "problem_h2o = h2o_driver.run()\n",
        "\n",
        "# Obter informações (deve funcionar agora)\n",
        "num_particles_h2o = problem_h2o.num_particles\n",
        "num_spatial_orbitals_h2o = problem_h2o.num_spatial_orbitals\n",
        "nuclear_repulsion_energy_h2o = problem_h2o.nuclear_repulsion_energy\n",
        "reference_energy_hf_electronic_h2o = problem_h2o.reference_energy\n",
        "reference_energy_hf_total_h2o = reference_energy_hf_electronic_h2o + nuclear_repulsion_energy_h2o\n",
        "\n",
        "print(f\"--- Molécula H₂O ---\")\n",
        "# Imprimir a geometria original ou a processada para referência\n",
        "print(f\"Geometria (Formato PySCF): {h2o_geometry_processed}\")\n",
        "print(f\"Base: sto3g\")\n",
        "print(f\"Número de Elétrons (alpha, beta): {num_particles_h2o}\")\n",
        "print(f\"Número de Orbitais Espaciais: {num_spatial_orbitals_h2o}\")\n",
        "print(f\"Energia de Repulsão Nuclear: {nuclear_repulsion_energy_h2o:.8f} Hartree\")\n",
        "print(f\"Energia Eletrônica de Referência (HF): {reference_energy_hf_electronic_h2o:.8f} Hartree\")\n",
        "print(f\"Energia Total de Referência (HF): {reference_energy_hf_total_h2o:.8f} Hartree\")\n",
        "\n",
        "# Armazenar números alpha/beta\n",
        "num_alpha_h2o, num_beta_h2o = num_particles_h2o\n",
        "\n",
        "# Aviso: H₂O com sto-3g tem mais orbitais/elétrons que LiH.\n",
        "# O cálculo VQE pode ser significativamente mais lento."
      ],
      "metadata": {
        "id": "JRStAsSWUNWn",
        "colab": {
          "base_uri": "https://localhost:8080/"
        },
        "outputId": "3df7ce69-fbca-41e3-dbbb-c52580424119"
      },
      "execution_count": 10,
      "outputs": [
        {
          "output_type": "stream",
          "name": "stdout",
          "text": [
            "--- Molécula H₂O ---\n",
            "Geometria (Formato PySCF): O  0.00000000  0.00000000  0.11779000; H  0.00000000  0.75545300 -0.47116000; H  0.00000000 -0.75545300 -0.47116000\n",
            "Base: sto3g\n",
            "Número de Elétrons (alpha, beta): (5, 5)\n",
            "Número de Orbitais Espaciais: 7\n",
            "Energia de Repulsão Nuclear: 9.18919890 Hartree\n",
            "Energia Eletrônica de Referência (HF): -74.96314666 Hartree\n",
            "Energia Total de Referência (HF): -65.77394776 Hartree\n"
          ]
        }
      ]
    },
    {
      "cell_type": "markdown",
      "source": [
        "**Célula 11: Mapeamento para Qubits (H₂O)**"
      ],
      "metadata": {
        "id": "YkKUWNzbW09G"
      }
    },
    {
      "cell_type": "code",
      "source": [
        "# Célula 11 (Corrigida pela quarta vez)\n",
        "\n",
        "# Usar o mapeamento ParityMapper\n",
        "mapper_h2o = ParityMapper(num_particles=num_particles_h2o)\n",
        "\n",
        "# Obter os operadores de segunda quantização do problema\n",
        "# CORREÇÃO: Acessar o primeiro elemento (índice 0) da tupla retornada\n",
        "second_quantization_operators_h2o = problem_h2o.second_q_ops()\n",
        "electronic_energy_op_h2o = second_quantization_operators_h2o[0]\n",
        "\n",
        "# Mapear o operador Fermionico para o Hamiltoniano de Qubits\n",
        "qubit_op_h2o = mapper_h2o.map(electronic_energy_op_h2o)\n",
        "\n",
        "num_qubits_h2o = qubit_op_h2o.num_qubits\n",
        "print(f\"--- Mapeamento H₂O ---\")\n",
        "print(f\"Mapeamento usado: {type(mapper_h2o).__name__}\")\n",
        "print(f\"Número de Qubits necessário (após mapeamento Parity): {num_qubits_h2o}\")"
      ],
      "metadata": {
        "id": "tCpLbnAaUNUb",
        "colab": {
          "base_uri": "https://localhost:8080/"
        },
        "outputId": "d14e0e24-6f23-426d-9024-ba9b4babf570"
      },
      "execution_count": 11,
      "outputs": [
        {
          "output_type": "stream",
          "name": "stdout",
          "text": [
            "--- Mapeamento H₂O ---\n",
            "Mapeamento usado: ParityMapper\n",
            "Número de Qubits necessário (após mapeamento Parity): 12\n"
          ]
        }
      ]
    },
    {
      "cell_type": "markdown",
      "source": [
        "**Célula 12: Definição do Ansatz e Otimizador (H₂O)**"
      ],
      "metadata": {
        "id": "9Vw8xCbWXN8P"
      }
    },
    {
      "cell_type": "code",
      "source": [
        "# Célula 12 (Corrigida - Acessando maxiter via settings)\n",
        "\n",
        "# --- Ansatz UCCSD para H₂O ---\n",
        "init_state_h2o = HartreeFock(num_spatial_orbitals_h2o, num_particles_h2o)\n",
        "init_state_h2o.qubit_mapper = mapper_h2o\n",
        "\n",
        "ansatz_h2o = UCCSD(\n",
        "    num_spatial_orbitals=num_spatial_orbitals_h2o,\n",
        "    num_particles=num_particles_h2o,\n",
        "    initial_state=init_state_h2o\n",
        ")\n",
        "ansatz_h2o.qubit_mapper = mapper_h2o\n",
        "\n",
        "# --- Otimizador Clássico ---\n",
        "optimizer_h2o = COBYLA(maxiter=1500, tol=1e-6)\n",
        "\n",
        "print(f\"--- Configuração VQE (H₂O) ---\")\n",
        "print(f\"Ansatz: UCCSD\")\n",
        "print(f\"Número de parâmetros no Ansatz: {ansatz_h2o.num_parameters}\")\n",
        "print(f\"Otimizador: {type(optimizer_h2o).__name__}\")\n",
        "# CORREÇÃO: Acessar maxiter através do dicionário 'settings'\n",
        "print(f\"Máximo de iterações: {optimizer_h2o.settings['maxiter']}\") # <-- ACESSAR VIA SETTINGS\n",
        "\n",
        "# Resetar o armazenamento de valores intermediários\n",
        "intermediate_values = {}"
      ],
      "metadata": {
        "id": "hihVb-uZUNSJ",
        "colab": {
          "base_uri": "https://localhost:8080/"
        },
        "outputId": "32c21c79-f549-40c2-f349-07224edc5a74"
      },
      "execution_count": 12,
      "outputs": [
        {
          "output_type": "stream",
          "name": "stdout",
          "text": [
            "--- Configuração VQE (H₂O) ---\n",
            "Ansatz: UCCSD\n",
            "Número de parâmetros no Ansatz: 140\n",
            "Otimizador: COBYLA\n",
            "Máximo de iterações: 1500\n"
          ]
        }
      ]
    },
    {
      "cell_type": "markdown",
      "source": [
        "**Célula 13: Configuração e Execução do VQE**"
      ],
      "metadata": {
        "id": "ZBehTpPFXf1h"
      }
    },
    {
      "cell_type": "code",
      "source": [
        "# --- Backend (Simulador) ---\n",
        "# Reutilizar o mesmo Estimator definido anteriormente ou criar um novo\n",
        "# estimator = Estimator(options={\"seed\": seed}) # Já definido, mas podemos redefinir se quisermos\n",
        "\n",
        "# --- Algoritmo VQE para H₂O ---\n",
        "vqe_solver_h2o = VQE(\n",
        "    estimator=estimator, # Reutiliza o estimator com seed\n",
        "    ansatz=ansatz_h2o,\n",
        "    optimizer=optimizer_h2o,\n",
        "    callback=store_intermediate_result,\n",
        "    initial_point=np.zeros(ansatz_h2o.num_parameters) # Ponto inicial\n",
        ")\n",
        "\n",
        "print(\"Iniciando cálculo VQE para H₂O (pode levar alguns minutos)...\")\n",
        "# Executa o VQE\n",
        "vqe_result_h2o = vqe_solver_h2o.compute_minimum_eigenvalue(qubit_op_h2o)\n",
        "\n",
        "print(\"Cálculo VQE para H₂O concluído.\")\n",
        "\n",
        "# Extrair resultados\n",
        "vqe_energy_electronic_h2o = vqe_result_h2o.eigenvalue.real\n",
        "vqe_energy_total_h2o = vqe_energy_electronic_h2o + nuclear_repulsion_energy_h2o\n",
        "\n",
        "print(f\"Energia Eletrônica VQE: {vqe_energy_electronic_h2o:.8f} Hartree\")"
      ],
      "metadata": {
        "id": "yjFjFahZUNH6",
        "colab": {
          "base_uri": "https://localhost:8080/"
        },
        "outputId": "a76fb409-f909-43ba-b4a0-42925007722c"
      },
      "execution_count": 13,
      "outputs": [
        {
          "output_type": "stream",
          "name": "stdout",
          "text": [
            "Iniciando cálculo VQE para H₂O (pode levar alguns minutos)...\n",
            "Cálculo VQE para H₂O concluído.\n",
            "Energia Eletrônica VQE: -84.19559186 Hartree\n"
          ]
        }
      ]
    },
    {
      "cell_type": "markdown",
      "source": [
        "**Célula 14: Análise dos Resultados (H₂O)**"
      ],
      "metadata": {
        "id": "hJt4jBswYGU6"
      }
    },
    {
      "cell_type": "code",
      "source": [
        "print(f\"\\n--- Resultados VQE para H₂O (Base: sto3g) ---\")\n",
        "print(f\"Energia Total do Estado Fundamental VQE: {vqe_energy_total_h2o:.8f} Hartree\")\n",
        "print(f\"Energia Total de Referência (Hartree-Fock): {reference_energy_hf_total_h2o:.8f} Hartree\")\n",
        "print(f\"Erro VQE vs HF (Energia Total): {abs(vqe_energy_total_h2o - reference_energy_hf_total_h2o):.8f} Hartree\")\n",
        "\n",
        "# Opcional: Comparar energias eletrônicas\n",
        "print(f\"Energia Eletrônica VQE:              {vqe_energy_electronic_h2o:.8f} Hartree\")\n",
        "print(f\"Energia Eletrônica de Referência (HF): {reference_energy_hf_electronic_h2o:.8f} Hartree\")\n",
        "print(f\"Erro VQE vs HF (Energia Eletrônica):  {abs(vqe_energy_electronic_h2o - reference_energy_hf_electronic_h2o):.8f} Hartree\")\n",
        "\n",
        "eval_count_h2o = vqe_result_h2o.cost_function_evals if hasattr(vqe_result_h2o, 'cost_function_evals') else len(intermediate_values.get('counts', []))\n",
        "print(f\"Número de avaliações do otimizador: {eval_count_h2o}\")\n",
        "\n",
        "# --- Gráfico de Convergência ---\n",
        "plt.figure(figsize=(10, 6))\n",
        "counts_h2o = intermediate_values.get('counts', [])\n",
        "values_electronic_h2o = intermediate_values.get('values', [])\n",
        "\n",
        "if counts_h2o and values_electronic_h2o:\n",
        "    values_total_energy_h2o = [v + nuclear_repulsion_energy_h2o for v in values_electronic_h2o]\n",
        "\n",
        "    plt.plot(counts_h2o, values_total_energy_h2o, marker='.', linestyle='-', color='b', label='Energia VQE (Iteração)')\n",
        "    plt.axhline(y=reference_energy_hf_total_h2o, color='r', linestyle='--', label=f'Energia HF Total ({reference_energy_hf_total_h2o:.6f})')\n",
        "    plt.axhline(y=vqe_energy_total_h2o, color='g', linestyle=':', label=f'Energia VQE Final ({vqe_energy_total_h2o:.6f})')\n",
        "\n",
        "    plt.xlabel('Número da Avaliação da Função de Custo')\n",
        "    plt.ylabel('Energia Total (Hartree)')\n",
        "    plt.title('Convergência do Otimizador VQE para H₂O (sto-3g)')\n",
        "    plt.legend()\n",
        "    plt.grid(True)\n",
        "    plt.show()\n",
        "else:\n",
        "    print(\"Não há dados de convergência para plotar.\")"
      ],
      "metadata": {
        "id": "uBSRT8ikYcpc",
        "colab": {
          "base_uri": "https://localhost:8080/",
          "height": 731
        },
        "outputId": "55bde9f4-c85e-4d92-a580-8a7e21ee333e"
      },
      "execution_count": 14,
      "outputs": [
        {
          "output_type": "stream",
          "name": "stdout",
          "text": [
            "\n",
            "--- Resultados VQE para H₂O (Base: sto3g) ---\n",
            "Energia Total do Estado Fundamental VQE: -75.00639296 Hartree\n",
            "Energia Total de Referência (Hartree-Fock): -65.77394776 Hartree\n",
            "Erro VQE vs HF (Energia Total): 9.23244520 Hartree\n",
            "Energia Eletrônica VQE:              -84.19559186 Hartree\n",
            "Energia Eletrônica de Referência (HF): -74.96314666 Hartree\n",
            "Erro VQE vs HF (Energia Eletrônica):  9.23244520 Hartree\n",
            "Número de avaliações do otimizador: 1500\n"
          ]
        },
        {
          "output_type": "display_data",
          "data": {
            "text/plain": [
              "<Figure size 1000x600 with 1 Axes>"
            ],
            "image/png": "[encoded data removed]"
          },
          "metadata": {}
        }
      ]
    },
    {
      "cell_type": "markdown",
      "source": [
        "### Análise dos Resultados VQE para H₂O\n",
        "\n",
        "A análise para a molécula de água (H₂O) reforça algumas observações feitas para o LiH:\n",
        "\n",
        "1.  **Comparação VQE vs. HF (Driver):**\n",
        "    *   A energia total VQE (-75.0064 Hartree) é, novamente, **drasticamente mais baixa** que a energia total de referência HF do `PySCFDriver` (-65.7739 Hartree). A diferença é de aproximadamente 9.23 Hartree.\n",
        "    *   Esta diferença **extremamente grande** confirma que o valor de referência HF do driver não deve ser usado como um benchmark padrão para a energia RHF/STO-3G da água. O VQE está claramente capturando muito mais do que a energia de correlação usual em relação a *esse* valor de referência específico.\n",
        "\n",
        "2.  **Comparação VQE vs. DFT:**\n",
        "    *   A energia VQE (-75.0064 Hartree) está, mais uma vez, **razoavelmente próxima** da energia DFT (B3LYP/STO-3G) calculada diretamente (-75.3127 Hartree). A VQE é ligeiramente superior à DFT, o que é um resultado fisicamente consistente.\n",
        "    *   A diferença VQE-DFT (~0.3 Hartree) está dentro do que se poderia esperar ao comparar VQE/UCCSD e DFT/B3LYP com a base mínima STO-3G. A DFT novamente serve como um benchmark clássico muito mais útil aqui.\n",
        "\n",
        "3.  **Convergência do Otimizador (Gráfico):**\n",
        "    *   O gráfico de convergência para H₂O exibe um padrão semelhante ao LiH: exploração inicial, seguida por uma rápida descida para a região de baixa energia (antes de 200 avaliações) e, em seguida, uma estabilização gradual.\n",
        "    *   O otimizador utilizou **todas as 1500 avaliações permitidas**, o que explica o longo tempo de execução (quase 2 horas). A convergência visual ocorre muito antes (por volta de 300-400 avaliações).\n",
        "    *   Isso destaca a potencial ineficiência do COBYLA para problemas com mais parâmetros (140 para H₂O), pois ele continua a fazer pequenas (ou nenhuma) melhorias por um grande número de iterações até atingir `maxiter`.\n",
        "\n",
        "4.  **Custo Computacional:**\n",
        "    *   Como esperado, o cálculo para H₂O foi significativamente mais caro computacionalmente do que para LiH. Isso se deve ao maior número de elétrons e orbitais, levando a mais qubits e um número muito maior de parâmetros no ansatz UCCSD (140 vs 92), o que torna a otimização muito mais desafiadora e demorada."
      ],
      "metadata": {
        "id": "GkN4zcnVBzuG"
      }
    },
    {
      "cell_type": "markdown",
      "source": [
        "**Célula 15: Comparação com DFT (Discussão e Exemplo)**"
      ],
      "metadata": {
        "id": "gU1CRUgfYdXU"
      }
    },
    {
      "cell_type": "code",
      "source": [
        "## Comparação com DFT (Density Functional Theory)\n",
        "\n",
        "#O VQE busca a energia do estado fundamental dentro do espaço de estados que o ansatz pode representar. O Hartree-Fock (HF) é uma aproximação clássica que negligencia parte da correlação eletrônica. O UCCSD usado no VQE pode capturar mais correlação que o HF, aproximando-se da energia exata (Full CI) para a base dada.\n",
        "\n",
        "#DFT é outro método clássico popular que tenta incluir a correlação eletrônica através de funcionais de densidade. Frequentemente, o DFT fornece resultados mais precisos que o HF para muitas propriedades, com custo computacional gerenciável.\n",
        "\n",
        "#**Como obter a energia DFT para comparação:**\n",
        "\n",
        "#1.  **Usar PySCF diretamente:** A maneira mais direta é executar um cálculo DFT separado usando PySCF com a **mesma geometria e base** usadas no VQE.\n",
        "\n",
        "#**Exemplo de Cálculo DFT com PySCF:**\n",
        "\n",
        "# Este bloco executa um cálculo DFT real usando PySCF instalado.\n",
        "\n",
        "try:\n",
        "    from pyscf import gto, dft\n",
        "    # Usar RKS (Restricted Kohn-Sham) para sistemas de camada fechada\n",
        "    from pyscf.scf import RHF # Importar RHF para obter objeto mol\n",
        "\n",
        "    print(\"\\nExecutando cálculos DFT com PySCF...\")\n",
        "\n",
        "    # --- LiH DFT ---\n",
        "    # Requer a definição da molécula no formato PySCF\n",
        "    mol_lih = gto.M(atom=lih_geometry, basis='sto3g', unit='angstrom', charge=0, spin=0)\n",
        "    mf_lih_dft = dft.RKS(mol_lih)\n",
        "    mf_lih_dft.xc = 'b3lyp' # Exemplo de funcional DFT (B3LYP)\n",
        "    energy_dft_lih = mf_lih_dft.kernel() # .kernel() executa o cálculo e retorna a energia total\n",
        "    print(f\"\\n--- Comparação DFT (LiH - sto3g) ---\")\n",
        "    print(f\"Energia DFT Total (B3LYP): {energy_dft_lih:.8f} Hartree\")\n",
        "    print(f\"Energia VQE Total:         {vqe_energy_total_lih:.8f} Hartree\")\n",
        "    print(f\"Energia HF Total:          {reference_energy_hf_total:.8f} Hartree\")\n",
        "\n",
        "    # --- H₂O DFT ---\n",
        "    mol_h2o = gto.M(atom=h2o_geometry, basis='sto3g', unit='angstrom', charge=0, spin=0)\n",
        "    mf_h2o_dft = dft.RKS(mol_h2o)\n",
        "    mf_h2o_dft.xc = 'b3lyp' # Mesmo funcional\n",
        "    energy_dft_h2o = mf_h2o_dft.kernel()\n",
        "    print(f\"\\n--- Comparação DFT (H₂O - sto3g) ---\")\n",
        "    print(f\"Energia DFT Total (B3LYP): {energy_dft_h2o:.8f} Hartree\")\n",
        "    print(f\"Energia VQE Total:         {vqe_energy_total_h2o:.8f} Hartree\")\n",
        "    print(f\"Energia HF Total:          {reference_energy_hf_total_h2o:.8f} Hartree\")\n",
        "\n",
        "except ImportError:\n",
        "    print(\"\\nPySCF não pôde ser importado para execução direta do DFT.\")\n",
        "    # Se PySCF falhar, usar valores de referência aproximados (COMENTADOS)\n",
        "    # energy_dft_lih_ref = -7.882 # Exemplo - B3LYP/sto-3g\n",
        "    # energy_dft_h2o_ref = -75.0 # Exemplo - B3LYP/sto-3g\n",
        "    # print(f\"\\nValores de referência DFT (B3LYP/sto-3g - *Aproximados*):\")\n",
        "    # print(f\"LiH: {energy_dft_lih_ref:.4f} Hartree | VQE Total: {vqe_energy_total_lih:.4f} Hartree\")\n",
        "    # print(f\"H₂O: {energy_dft_h2o_ref:.4f} Hartree | VQE Total: {vqe_energy_total_h2o:.4f} Hartree\")\n",
        "except Exception as e:\n",
        "    print(f\"\\nOcorreu um erro durante o cálculo DFT com PySCF: {e}\")"
      ],
      "metadata": {
        "id": "FshOK8u-Y6eV",
        "colab": {
          "base_uri": "https://localhost:8080/"
        },
        "outputId": "31430a1f-7a8f-43ca-9520-df9006757b9d"
      },
      "execution_count": 15,
      "outputs": [
        {
          "output_type": "stream",
          "name": "stdout",
          "text": [
            "\n",
            "Executando cálculos DFT com PySCF...\n"
          ]
        },
        {
          "output_type": "stream",
          "name": "stderr",
          "text": [
            "/usr/local/lib/python3.11/dist-packages/pyscf/dft/libxc.py:512: UserWarning: Since PySCF-2.3, B3LYP (and B3P86) are changed to the VWN-RPA variant, corresponding to the original definition by Stephens et al. (issue 1480) and the same as the B3LYP functional in Gaussian. To restore the VWN5 definition, you can put the setting \"B3LYP_WITH_VWN5 = True\" in pyscf_conf.py\n",
            "  warnings.warn('Since PySCF-2.3, B3LYP (and B3P86) are changed to the VWN-RPA variant, '\n"
          ]
        },
        {
          "output_type": "stream",
          "name": "stdout",
          "text": [
            "converged SCF energy = -7.96145483822055\n",
            "\n",
            "--- Comparação DFT (LiH - sto3g) ---\n",
            "Energia DFT Total (B3LYP): -7.96145484 Hartree\n",
            "Energia VQE Total:         -7.87365242 Hartree\n",
            "Energia HF Total:          -6.86965750 Hartree\n",
            "converged SCF energy = -75.3127014111923\n",
            "\n",
            "--- Comparação DFT (H₂O - sto3g) ---\n",
            "Energia DFT Total (B3LYP): -75.31270141 Hartree\n",
            "Energia VQE Total:         -75.00639296 Hartree\n",
            "Energia HF Total:          -65.77394776 Hartree\n"
          ]
        }
      ]
    },
    {
      "cell_type": "markdown",
      "source": [
        "**Análise da Comparação VQE vs. DFT:**\n",
        "\n",
        "- Idealmente, a energia VQE com UCCSD deveria ser menor (mais negativa) que a energia HF, pois captura mais correlação.\n",
        "\n",
        "- A energia VQE deveria se aproximar da energia exata (Full CI) para a base dada, se o ansatz for suficiente e a otimização convergir.\n",
        "\n",
        "- A energia DFT (e.g., B3LYP) também é uma aproximação. Qual é \"melhor\" (VQE ou DFT) depende da molécula, base, funcional DFT, e da qualidade do ansatz/otimização VQE.\n",
        "\n",
        "- Para bases mínimas como sto-3g, as energias absolutas podem não ser muito precisas em comparação com valores experimentais, mas as diferenças relativas e a comparação entre métodos (VQE vs HF vs DFT) ainda são informativas. O VQE/UCCSD com sto-3g pode ou não superar o DFT/B3LYP com sto-3g. Com bases maiores, o UCCSD tende a ser mais sistematicamente aprimorável em direção à exatidão do que muitos funcionais DFT.\n",
        "\n",
        "- Observe se a energia VQE ficou entre a energia HF e a energia DFT, ou abaixo de ambas. Uma energia VQE abaixo da DFT pode indicar que o VQE/UCCSD está capturando mais correlação do que o funcional B3LYP nesta base específica."
      ],
      "metadata": {
        "id": "2chkT79-Y8hL"
      }
    },
    {
      "cell_type": "markdown",
      "source": [
        "**Célula 16: Conclusão e Próximos Passos**"
      ],
      "metadata": {
        "id": "KZLY_dUdZqLy"
      }
    },
    {
      "cell_type": "markdown",
      "source": [
        "## Conclusão Geral\n",
        "\n",
        "Este projeto demonstrou com sucesso a aplicação do algoritmo VQE, utilizando o ansatz UCCSD e o otimizador COBYLA, para calcular a energia do estado fundamental das moléculas LiH e H₂O na base STO-3G.\n",
        "\n",
        "**Principais Conclusões:**\n",
        "\n",
        "*   O VQE foi implementado corretamente usando Qiskit e Qiskit Nature, encontrando energias para ambas as moléculas.\n",
        "*   As energias VQE obtidas foram significativamente mais baixas que as energias de referência Hartree-Fock fornecidas diretamente pelo `PySCFDriver`. A magnitude inesperadamente grande dessa diferença sugere cautela ao usar `problem.reference_energy` como benchmark HF padrão.\n",
        "*   A comparação com cálculos DFT (B3LYP/STO-3G) mostrou um acordo muito mais razoável, com as energias VQE ficando ligeiramente acima das energias DFT, validando os resultados do VQE como fisicamente consistentes dentro das aproximações usadas.\n",
        "*   O ansatz UCCSD foi capaz de capturar energia de correlação eletrônica.\n",
        "*   O otimizador COBYLA encontrou os mínimos energéticos, mas mostrou-se potencialmente ineficiente ao atingir o número máximo de iterações (`maxiter`) em ambos os casos, especialmente para H₂O que possui um número maior de parâmetros, resultando em tempos de execução longos no simulador.\n",
        "*   O custo computacional aumentou drasticamente ao passar de LiH para H₂O, destacando o desafio de escalar algoritmos quânticos para moléculas maiores.\n",
        "*   A base STO-3G, embora útil para demonstração, limita a precisão final dos resultados em comparação com valores experimentais ou cálculos com bases maiores.\n",
        "\n",
        "Este projeto serve como uma base sólida para explorar simulações de química quântica em computadores quânticos, destacando tanto o potencial quanto os desafios atuais da abordagem VQE..\n",
        "\n",
        "**Próximos Passos Possíveis:**\n",
        "*   Experimentar diferentes otimizadores (SPSA, SLSQP) e ajustar seus hiperparâmetros (e.g., `maxiter`, `tol`).\n",
        "*   Usar bases atômicas maiores (e.g., `6-31g`), talvez combinadas com `ActiveSpaceTransformer` para focar nos orbitais mais importantes e reduzir o custo computacional.\n",
        "*   Explorar outros ansatzes (e.g., `kUpCCGSD` ou ansatzes adaptativos como `ADAPT-VQE`).\n",
        "*   Executar em simuladores com ruído (`NoiseModel` do Qiskit Aer) para entender o impacto em hardware real.\n",
        "*   Executar em hardware quântico real (requer configuração de conta e acesso a backends).\n",
        "*   Implementar o mesmo problema usando PennyLane para comparar as bibliotecas e fluxos de trabalho.\n",
        "*   Realizar uma análise de erro mais detalhada, comparando com resultados de Full CI (configuração de interação completa) para a base `sto-3g` (que é computacionalmente viável para essas moléculas pequenas usando PySCF)."
      ],
      "metadata": {
        "id": "QLCUH9fJZxdq"
      }
    }
  ]
}